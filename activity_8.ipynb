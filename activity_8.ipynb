{
 "cells": [
  {
   "attachments": {},
   "cell_type": "markdown",
   "metadata": {},
   "source": [
    "# Activity 8 - curve fitting and processing multiple files\n",
    "It is often the case that datasets are composed of more than one file. How can we process more than one file using Python? "
   ]
  },
  {
   "attachments": {},
   "cell_type": "markdown",
   "metadata": {},
   "source": [
    "The files in the `data/enzyme` are from a study to measure an enzyme's activity. The assay takes advantage of a plate reader to monitor the absorbance of multiple reactions with different initial substrate concentrations over time. Plate readers are great because they allow for lots of data to be generated but it can be a challenge dealing with it all! Let's develop a Python workflow to handle this data. First, how can we deal with multiple files? The [`pathlib`](https://docs.python.org/3/library/pathlib.html) module of the standard library allows for easy iteration through a directory. The `.name` attribute of a path object contains the file name. Complete the following `for in` loop to print the name of each `.prx` file in the `data/enzyme` directory."
   ]
  },
  {
   "cell_type": "code",
   "execution_count": null,
   "metadata": {},
   "outputs": [],
   "source": [
    "from pathlib import Path\n",
    "\n",
    "for p in Path('data/enzyme').glob('*.prx'):\n",
    "    pass"
   ]
  },
  {
   "attachments": {},
   "cell_type": "markdown",
   "metadata": {},
   "source": [
    "To determine the kinetic parameters of the enzyme, we need [product] vs time (i.e. rates), at multiple [substrate].\n",
    "\n",
    "The plate reader is the Protoreader X, a great 96-well plate reader but not the best interface. It writes output to .prx files and these files contain notes fields with the total time the reaction has occurred (in seconds) and the initial concentration of substrate of the corresponding wells. This is followed by the data (concentration of product) in concentration units (micromolar). Note that the data field contains measurements for all 96 wells, some of which may not have anything in them (as described in the initial concentration field). \n",
    "\n",
    "Complete the function below that is intended to process a plate reader file into a DataFrame with time, [S] and [P] columns. Note that it is currently missing the product concentration column"
   ]
  },
  {
   "cell_type": "code",
   "execution_count": null,
   "metadata": {},
   "outputs": [],
   "source": [
    "import pandas as pd\n",
    "\n",
    "def process_plate_reader_file(prx_file)->pd.DataFrame:\n",
    "    data = prx_file.read()\n",
    "    time = float(data[data.index('Time:')+len('Time:'):data.index(',',data.index('Time:'))])\n",
    "    subs = [float(i) for i in data[data.index('[')+1:data.index(']')].split()]\n",
    "    return pd.DataFrame({'time':[time]*len(subs),'[S]':subs})\n",
    "\n",
    "with open('data/enzyme/3_5_21_1.prx') as prx_file:\n",
    "    enzyme_df = process_plate_reader_file(prx_file)\n",
    "enzyme_df"
   ]
  },
  {
   "attachments": {},
   "cell_type": "markdown",
   "metadata": {},
   "source": [
    "Complete the `for in` loop that processes all the files using the process_plate_reader_file function and places it into the `enzyme_df` DataFrame. Use the `.open` function for the variable `p` as you would with the builtin `open` function (i.e. in a context manager). Note that Pandas has an [`.concat`](https://pandas.pydata.org/pandas-docs/stable/reference/api/pandas.concat.html) function that can be used to combine DataFrames. Set the `ignore_index` keyword argument to `True` to reindex the row labels of the resulting combined DataFrame."
   ]
  },
  {
   "cell_type": "code",
   "execution_count": null,
   "metadata": {},
   "outputs": [],
   "source": [
    "enzyme_df = None\n",
    "\n",
    "for p in Path('data/enzyme').glob('*.prx'):\n",
    "    pass\n"
   ]
  },
  {
   "attachments": {},
   "cell_type": "markdown",
   "metadata": {},
   "source": [
    "The next step is to fit the product concentration to the time at each substrate concentration. This is where the `scipy.optimize.curve_fit` function is useful. This function takes a function as its first argument. The function takes the independent variable as its first argument (as a numpy array) and returns the dependent variable, with other parameters as the additional arguments. Complete the following code by assigning the `time_data` and `product_data` variables to the relevant data for a single substrate concentration from your DataFrame. Note that a column can be converted to a numpy array using the [`.to_numpy`](https://pandas.pydata.org/pandas-docs/stable/reference/api/pandas.DataFrame.to_numpy.html) function."
   ]
  },
  {
   "cell_type": "code",
   "execution_count": null,
   "metadata": {},
   "outputs": [],
   "source": [
    "from scipy.optimize import curve_fit\n",
    "\n",
    "def rate_equation(time:float,rate:float,offset:float)->float:\n",
    "    return rate * time + offset\n",
    "\n",
    "time_data = None\n",
    "product_data = None\n",
    "\n",
    "results,_ = curve_fit(rate_equation,time_data,product_data)\n",
    "results"
   ]
  },
  {
   "attachments": {},
   "cell_type": "markdown",
   "metadata": {},
   "source": [
    "The relationship between $[S]_{0}$ and $[product]$ is given by $$ V_{0} = \\frac{V_{max} [S]_{0}}{K_{M} + [S]_{0}} $$ where $V_{0}$ is the rate for a given substrate concentration. Calculate the rates for all substrate concentrations in your DataFrame and use the resulting information to fit the values for $K_{M}$ and $V_{max}$"
   ]
  },
  {
   "cell_type": "code",
   "execution_count": null,
   "metadata": {},
   "outputs": [],
   "source": []
  }
 ],
 "metadata": {
  "interpreter": {
   "hash": "c105c4553fb453fc2f221e0c5e897461189582aefb3b7b8bfd5e1d5829dbe375"
  },
  "kernelspec": {
   "display_name": "Python 3.10.4 ('py310')",
   "language": "python",
   "name": "python3"
  },
  "language_info": {
   "codemirror_mode": {
    "name": "ipython",
    "version": 3
   },
   "file_extension": ".py",
   "mimetype": "text/x-python",
   "name": "python",
   "nbconvert_exporter": "python",
   "pygments_lexer": "ipython3",
   "version": "3.10.4"
  },
  "orig_nbformat": 4
 },
 "nbformat": 4,
 "nbformat_minor": 2
}
