{
 "cells": [
  {
   "attachments": {},
   "cell_type": "markdown",
   "metadata": {},
   "source": [
    "# Activity 8 - curve fitting and processing multiple files\n",
    "\n",
    "## Analyzing enzyme kinetics using data from a plate reader\n",
    "\n",
    "The files in the `data/enzyme` directory are from a study to measure an enzyme's activity. The assay takes advantage of a plate reader to monitor the absorbance of multiple reactions with different initial substrate concentrations over time. Plate readers can collect a lot of data but it can be a challenge dealing with it all! Let's develop a Python workflow to handle these data. \n",
    "\n",
    "The instrument used to collect the data was the Protoreader X, a great 96-well plate reader that writes files in a format that isn't the easiest to work with. Its output files have a `.prx` extension and these files contain notes fields with the total time the reaction has occurred (in seconds) and the initial concentration of substrate of the corresponding wells. This is followed by the data (concentration of product) in concentration units (micromolar). Note that the data field contains measurements for all 96 wells, some of which may not have anything in them (as described in the initial concentration field). \n",
    "\n",
    "Write a function that extracts the time point at which the data were acquired from a file's contents."
   ]
  },
  {
   "cell_type": "code",
   "execution_count": null,
   "metadata": {},
   "outputs": [],
   "source": [
    "import numpy as np\n",
    "import matplotlib.pyplot as plt\n",
    "\n",
    "def extract_incubation_time(prx_file:str)->float:\n",
    "    pass\n",
    "\n",
    "with open('data/enzyme/3_5_21_1.prx') as prx_file:\n",
    "    print(extract_incubation_time(prx_file.read()))\n",
    "# should return 0.1"
   ]
  },
  {
   "cell_type": "markdown",
   "metadata": {},
   "source": [
    "Next, write a function that extracts all of the starting substrate concentrations from a file's contents."
   ]
  },
  {
   "cell_type": "code",
   "execution_count": null,
   "metadata": {},
   "outputs": [],
   "source": [
    "def extract_substrate_concentrations(prx_file:str)->list[float]:\n",
    "    pass\n",
    "\n",
    "with open('data/enzyme/3_5_21_1.prx') as prx_file:\n",
    "    print(sum(extract_substrate_concentrations(prx_file.read())))\n",
    "# should return 30.026179999999997"
   ]
  },
  {
   "cell_type": "markdown",
   "metadata": {},
   "source": [
    "Next, write a function that extracts all of the absorbance readings from a file's contents."
   ]
  },
  {
   "cell_type": "code",
   "execution_count": null,
   "metadata": {},
   "outputs": [],
   "source": [
    "def extract_absorbance_measurements(prx_file:str)->list[float]:\n",
    "    pass\n",
    "\n",
    "with open('data/enzyme/3_5_21_1.prx') as prx_file:\n",
    "    print(sum(extract_absorbance_measurements(prx_file.read())))\n",
    "# should return -0.14999999999999925"
   ]
  },
  {
   "cell_type": "markdown",
   "metadata": {},
   "source": [
    "Now we have the tools to load all the data - but how should we structure it? We would like to access absorbance vs time data at different substrate concentrations. For this we need a list or numpy array of all of the time points and a corresponding list of absorbance measurements at each substrate concentration. We can accomplish this by:\n",
    "\n",
    "- building an array of the substrate concentrations\n",
    "- building an array of the time points\n",
    "- building a two dimensional array of the absorbance measurements\n",
    "\n",
    "To build an array of the substrate concentrations, we can read them out of any one of the files. Use your `extract_substrate_concentrations` function to build an array of the substrate concentrations used. Assign the resulting array to `substrate_concentrations`"
   ]
  },
  {
   "cell_type": "code",
   "execution_count": null,
   "metadata": {},
   "outputs": [],
   "source": [
    "with open('data/enzyme/3_5_21_1.prx') as prx_file:\n",
    "   pass"
   ]
  },
  {
   "cell_type": "markdown",
   "metadata": {},
   "source": [
    "For the other arrays that we need to build, we need to process more than one file. How can we process more than one file using Python? The [`pathlib`](https://docs.python.org/3/library/pathlib.html) module of the standard library allows for easy iteration through a directory. The `.name` attribute of a path object contains the file name. Complete the following `for in` loop to print the name of each `.prx` file in the `data/enzyme` directory."
   ]
  },
  {
   "cell_type": "code",
   "execution_count": null,
   "metadata": {},
   "outputs": [],
   "source": [
    "from pathlib import Path\n",
    "\n",
    "for p in Path('data/enzyme').glob('*.prx'):\n",
    "    print(p)"
   ]
  },
  {
   "cell_type": "markdown",
   "metadata": {},
   "source": [
    "Use this method for looping over all the files along with your `extract_incubation_time` function to build an array of the time points represented in the dataset in the cell below"
   ]
  },
  {
   "cell_type": "code",
   "execution_count": null,
   "metadata": {},
   "outputs": [],
   "source": [
    "incubation_times = []\n",
    "for p in Path('data/enzyme').glob('*.prx'):\n",
    "    with open(p) as prx_file:\n",
    "        pass"
   ]
  },
  {
   "cell_type": "markdown",
   "metadata": {},
   "source": [
    "Build a two dimensional numpy array of the absorbance measurements in the cell below"
   ]
  },
  {
   "cell_type": "code",
   "execution_count": null,
   "metadata": {},
   "outputs": [],
   "source": [
    "absorbances = []\n",
    "for p in Path('data/enzyme').glob('*.prx'):\n",
    "    with open(p) as prx_file:\n",
    "        pass"
   ]
  },
  {
   "cell_type": "markdown",
   "metadata": {},
   "source": [
    "Use the multidimensional array to plot the dataset (absorbance vs time) contained within the arrays you constructed that has the highest substrate concentration."
   ]
  },
  {
   "cell_type": "code",
   "execution_count": null,
   "metadata": {},
   "outputs": [],
   "source": []
  },
  {
   "attachments": {},
   "cell_type": "markdown",
   "metadata": {},
   "source": [
    "To get the rates at each substrate concentration, we need to fit the product concentration to the time for each substrate concentration. This is where the `scipy.optimize.curve_fit` function is useful. This function takes a function as its first argument. The passed in function takes the independent variable as its first argument (as a numpy array) and returns the dependent variable, with other parameters as the additional arguments. Complete the following code by assigning the `time_data` and `product_data` variables to the relevant data for a single substrate concentration from your absorbance matrix."
   ]
  },
  {
   "cell_type": "code",
   "execution_count": null,
   "metadata": {},
   "outputs": [],
   "source": [
    "from scipy.optimize import curve_fit\n",
    "\n",
    "def rate_equation(time:float,rate:float,offset:float)->float:\n",
    "    return rate * time + offset\n",
    "\n",
    "time_data = None # Replace None with the appropriate array\n",
    "product_data = None # Replace None with the appropriate array\n",
    "\n",
    "results,_ = curve_fit(rate_equation,time_data,product_data)\n",
    "results"
   ]
  },
  {
   "attachments": {},
   "cell_type": "markdown",
   "metadata": {},
   "source": [
    "The relationship between $[S]_{0}$ and $[product]$ is given by $$ V_{0} = \\frac{V_{max} [S]_{0}}{K_{M} + [S]_{0}} $$ where $V_{0}$ is the rate for a given substrate concentration. Calculate the rates for all substrate concentrations in your matrix and use the resulting information to fit the values for $K_{M}$ and $V_{max}$"
   ]
  },
  {
   "cell_type": "code",
   "execution_count": null,
   "metadata": {},
   "outputs": [],
   "source": []
  }
 ],
 "metadata": {
  "kernelspec": {
   "display_name": "base",
   "language": "python",
   "name": "python3"
  },
  "language_info": {
   "codemirror_mode": {
    "name": "ipython",
    "version": 3
   },
   "file_extension": ".py",
   "mimetype": "text/x-python",
   "name": "python",
   "nbconvert_exporter": "python",
   "pygments_lexer": "ipython3",
   "version": "3.9.18"
  },
  "orig_nbformat": 4
 },
 "nbformat": 4,
 "nbformat_minor": 2
}
